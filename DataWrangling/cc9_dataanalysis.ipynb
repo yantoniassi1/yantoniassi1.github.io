{
 "cells": [
  {
   "cell_type": "markdown",
   "metadata": {},
   "source": [
    "# Testing altair for CC9"
   ]
  },
  {
   "cell_type": "code",
   "execution_count": 62,
   "metadata": {},
   "outputs": [],
   "source": [
    "import pandas as pd\n",
    "import requests\n",
    "import io\n",
    "import altair as alt\n",
    "import numpy as np\n",
    "import geopandas as gpd\n",
    "import matplotlib.pyplot as plt"
   ]
  },
  {
   "cell_type": "markdown",
   "metadata": {},
   "source": [
    "### Data Wrangling"
   ]
  },
  {
   "cell_type": "code",
   "execution_count": 3,
   "metadata": {},
   "outputs": [],
   "source": [
    "#read cc9_health_cities_bra.csv\n",
    "db_health_cities = pd.read_csv('PortfolioData/cc9_health_cities_bra.csv')"
   ]
  },
  {
   "cell_type": "code",
   "execution_count": 4,
   "metadata": {},
   "outputs": [
    {
     "data": {
      "text/plain": [
       "codmun                   0\n",
       "nomemun                  0\n",
       "n_med                    0\n",
       "tx_med                   0\n",
       "n_obitos_csap            0\n",
       "desp_tot_saude_pc_mun    4\n",
       "pop                      0\n",
       "tx_mort_csap             0\n",
       "dtype: int64"
      ]
     },
     "execution_count": 4,
     "metadata": {},
     "output_type": "execute_result"
    }
   ],
   "source": [
    "columns_to_convert = ['n_med', 'tx_med', 'n_obitos_csap', 'desp_tot_saude_pc_mun', 'pop', 'tx_mort_csap']\n",
    "\n",
    "# Replace commas with dots and convert to numeric\n",
    "db_health_cities[columns_to_convert] = db_health_cities[columns_to_convert].apply(lambda x: pd.to_numeric(x.str.replace(',', '.'), errors='coerce'))\n",
    "\n",
    "#is there na values?\n",
    "db_health_cities.isna().sum()"
   ]
  },
  {
   "cell_type": "code",
   "execution_count": 5,
   "metadata": {},
   "outputs": [
    {
     "name": "stdout",
     "output_type": "stream",
     "text": [
      "(5000, 8)\n",
      "   codmun         nomemun    n_med    tx_med  n_obitos_csap  \\\n",
      "0  355030       São Paulo  69126.0  6.036151        17928.0   \n",
      "1  330455  Rio de Janeiro  31510.0  5.073075        15982.0   \n",
      "2  530010        Brasília  13335.0  4.733119         3141.0   \n",
      "3  230440       Fortaleza  10057.0  4.140885         3271.0   \n",
      "4  292740        Salvador  12977.0  5.367547         4240.0   \n",
      "\n",
      "   desp_tot_saude_pc_mun         pop  tx_mort_csap  \n",
      "0                1639.41  11451999.0    156.549088  \n",
      "1                1084.24   6211223.0    257.308424  \n",
      "2                    NaN   2817381.0    111.486519  \n",
      "3                1199.32   2428708.0    134.680661  \n",
      "4                 859.81   2417678.0    175.374884  \n"
     ]
    }
   ],
   "source": [
    "# Sort dataset by population in descending order\n",
    "db_health_cities = db_health_cities.sort_values(by='pop', ascending=False).reset_index(drop=True)\n",
    "\n",
    "# Keep only the top 5000 rows\n",
    "db_health_cities = db_health_cities.head(5000)\n",
    "\n",
    "# Verify the change\n",
    "print(db_health_cities.shape)  # Should print (5000, N) where N is the number of columns\n",
    "print(db_health_cities.head())\n"
   ]
  },
  {
   "cell_type": "code",
   "execution_count": 8,
   "metadata": {},
   "outputs": [],
   "source": [
    "#save db_health_cities as csv\n",
    "db_health_cities.to_csv('PortfolioData/db_health_cities.csv', index=False)"
   ]
  },
  {
   "cell_type": "markdown",
   "metadata": {},
   "source": [
    "### Ploting and reading from github"
   ]
  },
  {
   "cell_type": "code",
   "execution_count": 60,
   "metadata": {},
   "outputs": [
    {
     "name": "stderr",
     "output_type": "stream",
     "text": [
      "/Library/Frameworks/Python.framework/Versions/3.13/lib/python3.13/site-packages/urllib3/connectionpool.py:1099: InsecureRequestWarning: Unverified HTTPS request is being made to host 'raw.githubusercontent.com'. Adding certificate verification is strongly advised. See: https://urllib3.readthedocs.io/en/latest/advanced-usage.html#tls-warnings\n",
      "  warnings.warn(\n"
     ]
    },
    {
     "data": {
      "text/html": [
       "<div>\n",
       "<style scoped>\n",
       "    .dataframe tbody tr th:only-of-type {\n",
       "        vertical-align: middle;\n",
       "    }\n",
       "\n",
       "    .dataframe tbody tr th {\n",
       "        vertical-align: top;\n",
       "    }\n",
       "\n",
       "    .dataframe thead th {\n",
       "        text-align: right;\n",
       "    }\n",
       "</style>\n",
       "<table border=\"1\" class=\"dataframe\">\n",
       "  <thead>\n",
       "    <tr style=\"text-align: right;\">\n",
       "      <th></th>\n",
       "      <th>codmun</th>\n",
       "      <th>nomemun</th>\n",
       "      <th>n_med</th>\n",
       "      <th>tx_med</th>\n",
       "      <th>n_obitos_csap</th>\n",
       "      <th>desp_tot_saude_pc_mun</th>\n",
       "      <th>pop</th>\n",
       "      <th>tx_mort_csap</th>\n",
       "      <th>pop_category</th>\n",
       "    </tr>\n",
       "  </thead>\n",
       "  <tbody>\n",
       "    <tr>\n",
       "      <th>1339</th>\n",
       "      <td>290670</td>\n",
       "      <td>Cândido Sales</td>\n",
       "      <td>24.0</td>\n",
       "      <td>0.950608</td>\n",
       "      <td>72.0</td>\n",
       "      <td>890.38</td>\n",
       "      <td>25247.0</td>\n",
       "      <td>285.182398</td>\n",
       "      <td>Less than 500K</td>\n",
       "    </tr>\n",
       "    <tr>\n",
       "      <th>318</th>\n",
       "      <td>410430</td>\n",
       "      <td>Campo Mourão</td>\n",
       "      <td>488.0</td>\n",
       "      <td>4.907877</td>\n",
       "      <td>213.0</td>\n",
       "      <td>2001.31</td>\n",
       "      <td>99432.0</td>\n",
       "      <td>214.216751</td>\n",
       "      <td>Less than 500K</td>\n",
       "    </tr>\n",
       "    <tr>\n",
       "      <th>4908</th>\n",
       "      <td>314920</td>\n",
       "      <td>Pedrinópolis</td>\n",
       "      <td>9.0</td>\n",
       "      <td>2.691388</td>\n",
       "      <td>7.0</td>\n",
       "      <td>2590.98</td>\n",
       "      <td>3344.0</td>\n",
       "      <td>209.330144</td>\n",
       "      <td>Less than 500K</td>\n",
       "    </tr>\n",
       "    <tr>\n",
       "      <th>3017</th>\n",
       "      <td>220430</td>\n",
       "      <td>Fronteiras</td>\n",
       "      <td>9.0</td>\n",
       "      <td>0.877278</td>\n",
       "      <td>14.0</td>\n",
       "      <td>1127.32</td>\n",
       "      <td>10259.0</td>\n",
       "      <td>136.465542</td>\n",
       "      <td>Less than 500K</td>\n",
       "    </tr>\n",
       "    <tr>\n",
       "      <th>3151</th>\n",
       "      <td>412520</td>\n",
       "      <td>São Jorge d'Oeste</td>\n",
       "      <td>18.0</td>\n",
       "      <td>1.919386</td>\n",
       "      <td>25.0</td>\n",
       "      <td>2591.04</td>\n",
       "      <td>9378.0</td>\n",
       "      <td>266.581361</td>\n",
       "      <td>Less than 500K</td>\n",
       "    </tr>\n",
       "  </tbody>\n",
       "</table>\n",
       "</div>"
      ],
      "text/plain": [
       "      codmun            nomemun  n_med    tx_med  n_obitos_csap  \\\n",
       "1339  290670      Cândido Sales   24.0  0.950608           72.0   \n",
       "318   410430       Campo Mourão  488.0  4.907877          213.0   \n",
       "4908  314920       Pedrinópolis    9.0  2.691388            7.0   \n",
       "3017  220430         Fronteiras    9.0  0.877278           14.0   \n",
       "3151  412520  São Jorge d'Oeste   18.0  1.919386           25.0   \n",
       "\n",
       "      desp_tot_saude_pc_mun      pop  tx_mort_csap    pop_category  \n",
       "1339                 890.38  25247.0    285.182398  Less than 500K  \n",
       "318                 2001.31  99432.0    214.216751  Less than 500K  \n",
       "4908                2590.98   3344.0    209.330144  Less than 500K  \n",
       "3017                1127.32  10259.0    136.465542  Less than 500K  \n",
       "3151                2591.04   9378.0    266.581361  Less than 500K  "
      ]
     },
     "execution_count": 60,
     "metadata": {},
     "output_type": "execute_result"
    }
   ],
   "source": [
    "# URL of the CSV file\n",
    "url = 'https://raw.githubusercontent.com/yantoniassi1/yantoniassi1.github.io/main/PortfolioData/cc9_health_cities_brazil.csv'\n",
    "\n",
    "# Fetch the CSV content\n",
    "response = requests.get(url, verify=False)\n",
    "response.raise_for_status()  # Ensure we notice bad responses\n",
    "\n",
    "# Read the CSV content into a pandas DataFrame\n",
    "db_health_cities = pd.read_csv(io.StringIO(response.text))\n",
    "\n",
    "# Display a sample of the data\n",
    "db_health_cities.sample(5)"
   ]
  },
  {
   "cell_type": "code",
   "execution_count": 24,
   "metadata": {},
   "outputs": [
    {
     "data": {
      "text/html": [
       "\n",
       "<style>\n",
       "  #altair-viz-ad11e81d511f449eb111a2099a48b621.vega-embed {\n",
       "    width: 100%;\n",
       "    display: flex;\n",
       "  }\n",
       "\n",
       "  #altair-viz-ad11e81d511f449eb111a2099a48b621.vega-embed details,\n",
       "  #altair-viz-ad11e81d511f449eb111a2099a48b621.vega-embed details summary {\n",
       "    position: relative;\n",
       "  }\n",
       "</style>\n",
       "<div id=\"altair-viz-ad11e81d511f449eb111a2099a48b621\"></div>\n",
       "<script type=\"text/javascript\">\n",
       "  var VEGA_DEBUG = (typeof VEGA_DEBUG == \"undefined\") ? {} : VEGA_DEBUG;\n",
       "  (function(spec, embedOpt){\n",
       "    let outputDiv = document.currentScript.previousElementSibling;\n",
       "    if (outputDiv.id !== \"altair-viz-ad11e81d511f449eb111a2099a48b621\") {\n",
       "      outputDiv = document.getElementById(\"altair-viz-ad11e81d511f449eb111a2099a48b621\");\n",
       "    }\n",
       "\n",
       "    const paths = {\n",
       "      \"vega\": \"https://cdn.jsdelivr.net/npm/vega@5?noext\",\n",
       "      \"vega-lib\": \"https://cdn.jsdelivr.net/npm/vega-lib?noext\",\n",
       "      \"vega-lite\": \"https://cdn.jsdelivr.net/npm/vega-lite@5.20.1?noext\",\n",
       "      \"vega-embed\": \"https://cdn.jsdelivr.net/npm/vega-embed@6?noext\",\n",
       "    };\n",
       "\n",
       "    function maybeLoadScript(lib, version) {\n",
       "      var key = `${lib.replace(\"-\", \"\")}_version`;\n",
       "      return (VEGA_DEBUG[key] == version) ?\n",
       "        Promise.resolve(paths[lib]) :\n",
       "        new Promise(function(resolve, reject) {\n",
       "          var s = document.createElement('script');\n",
       "          document.getElementsByTagName(\"head\")[0].appendChild(s);\n",
       "          s.async = true;\n",
       "          s.onload = () => {\n",
       "            VEGA_DEBUG[key] = version;\n",
       "            return resolve(paths[lib]);\n",
       "          };\n",
       "          s.onerror = () => reject(`Error loading script: ${paths[lib]}`);\n",
       "          s.src = paths[lib];\n",
       "        });\n",
       "    }\n",
       "\n",
       "    function showError(err) {\n",
       "      outputDiv.innerHTML = `<div class=\"error\" style=\"color:red;\">${err}</div>`;\n",
       "      throw err;\n",
       "    }\n",
       "\n",
       "    function displayChart(vegaEmbed) {\n",
       "      vegaEmbed(outputDiv, spec, embedOpt)\n",
       "        .catch(err => showError(`Javascript Error: ${err.message}<br>This usually means there's a typo in your chart specification. See the javascript console for the full traceback.`));\n",
       "    }\n",
       "\n",
       "    if(typeof define === \"function\" && define.amd) {\n",
       "      requirejs.config({paths});\n",
       "      let deps = [\"vega-embed\"];\n",
       "      require(deps, displayChart, err => showError(`Error loading script: ${err.message}`));\n",
       "    } else {\n",
       "      maybeLoadScript(\"vega\", \"5\")\n",
       "        .then(() => maybeLoadScript(\"vega-lite\", \"5.20.1\"))\n",
       "        .then(() => maybeLoadScript(\"vega-embed\", \"6\"))\n",
       "        .catch(showError)\n",
       "        .then(() => displayChart(vegaEmbed));\n",
       "    }\n",
       "  })({\"config\": {\"view\": {\"continuousWidth\": 300, \"continuousHeight\": 300}}, \"layer\": [{\"data\": {\"url\": \"https://raw.githubusercontent.com/yantoniassi1/yantoniassi1.github.io/main/PortfolioData/cc9_health_cities_brazil.csv\", \"format\": {\"type\": \"csv\"}}, \"mark\": {\"type\": \"circle\", \"opacity\": 0.6}, \"encoding\": {\"color\": {\"field\": \"pop_category\", \"scale\": {\"domain\": [\"Less than 500K\", \"500K\\u20131M\", \"1M\\u20135M\", \"5M+\"], \"range\": [\"#48cae4\", \"#ff7f0e\", \"#d62728\", \"#6f2dbd\"]}, \"title\": \"Population Range\", \"type\": \"nominal\"}, \"order\": {\"field\": \"pop\", \"sort\": \"ascending\", \"type\": \"quantitative\"}, \"size\": {\"field\": \"pop\", \"legend\": null, \"scale\": {\"range\": [10, 1000]}, \"type\": \"quantitative\"}, \"tooltip\": [{\"field\": \"nomemun\", \"title\": \"Municipality\", \"type\": \"nominal\"}, {\"field\": \"tx_mort_csap\", \"title\": \"Deaths (Primary Care-Sensitive)\", \"type\": \"quantitative\"}, {\"field\": \"desp_tot_saude_pc_mun\", \"title\": \"Health Expenditure (R$)\", \"type\": \"quantitative\"}, {\"field\": \"pop\", \"title\": \"Population\", \"type\": \"quantitative\"}, {\"field\": \"pop_category\", \"title\": \"Population Range\", \"type\": \"nominal\"}], \"x\": {\"field\": \"tx_mort_csap\", \"title\": \"Number of Deaths (Primary Care-Sensitive)\", \"type\": \"quantitative\"}, \"y\": {\"field\": \"desp_tot_saude_pc_mun\", \"title\": \"Health Expenditure (R$ per Capita)\", \"type\": \"quantitative\"}}, \"name\": \"view_10\", \"title\": \"Relationship Between Primary Care-Sensitive Deaths and Municipal Health Expenditure\"}, {\"data\": {\"name\": \"data-4fe656e39c41b1fae8b69a330239ffca\"}, \"mark\": {\"type\": \"line\", \"color\": \"black\", \"strokeDash\": [5, 5]}, \"encoding\": {\"x\": {\"field\": \"tx_mort_csap\", \"title\": \"Number of Deaths (Primary Care-Sensitive)\", \"type\": \"quantitative\"}, \"y\": {\"field\": \"desp_tot_saude_pc_mun\", \"title\": \"Health Expenditure (R$ per Capita)\", \"type\": \"quantitative\"}}}], \"height\": 400, \"params\": [{\"name\": \"param_11\", \"select\": {\"type\": \"interval\", \"encodings\": [\"x\", \"y\"]}, \"bind\": \"scales\", \"views\": [\"view_10\"]}], \"width\": 600, \"$schema\": \"https://vega.github.io/schema/vega-lite/v5.20.1.json\", \"datasets\": {\"data-4fe656e39c41b1fae8b69a330239ffca\": [{\"tx_mort_csap\": 0.0, \"desp_tot_saude_pc_mun\": 1337.913037888161}, {\"tx_mort_csap\": 5.949138001214879, \"desp_tot_saude_pc_mun\": 1341.5413388061143}, {\"tx_mort_csap\": 11.898276002429759, \"desp_tot_saude_pc_mun\": 1345.1696397240676}, {\"tx_mort_csap\": 17.847414003644637, \"desp_tot_saude_pc_mun\": 1348.7979406420209}, {\"tx_mort_csap\": 23.796552004859517, \"desp_tot_saude_pc_mun\": 1352.4262415599742}, {\"tx_mort_csap\": 29.745690006074398, \"desp_tot_saude_pc_mun\": 1356.0545424779275}, {\"tx_mort_csap\": 35.694828007289274, \"desp_tot_saude_pc_mun\": 1359.6828433958808}, {\"tx_mort_csap\": 41.64396600850416, \"desp_tot_saude_pc_mun\": 1363.3111443138341}, {\"tx_mort_csap\": 47.593104009719035, \"desp_tot_saude_pc_mun\": 1366.9394452317874}, {\"tx_mort_csap\": 53.54224201093391, \"desp_tot_saude_pc_mun\": 1370.5677461497407}, {\"tx_mort_csap\": 59.491380012148795, \"desp_tot_saude_pc_mun\": 1374.196047067694}, {\"tx_mort_csap\": 65.44051801336367, \"desp_tot_saude_pc_mun\": 1377.8243479856474}, {\"tx_mort_csap\": 71.38965601457855, \"desp_tot_saude_pc_mun\": 1381.4526489036007}, {\"tx_mort_csap\": 77.33879401579343, \"desp_tot_saude_pc_mun\": 1385.080949821554}, {\"tx_mort_csap\": 83.28793201700832, \"desp_tot_saude_pc_mun\": 1388.7092507395073}, {\"tx_mort_csap\": 89.23707001822319, \"desp_tot_saude_pc_mun\": 1392.3375516574604}, {\"tx_mort_csap\": 95.18620801943807, \"desp_tot_saude_pc_mun\": 1395.9658525754137}, {\"tx_mort_csap\": 101.13534602065295, \"desp_tot_saude_pc_mun\": 1399.594153493367}, {\"tx_mort_csap\": 107.08448402186782, \"desp_tot_saude_pc_mun\": 1403.2224544113203}, {\"tx_mort_csap\": 113.03362202308271, \"desp_tot_saude_pc_mun\": 1406.8507553292736}, {\"tx_mort_csap\": 118.98276002429759, \"desp_tot_saude_pc_mun\": 1410.479056247227}, {\"tx_mort_csap\": 124.93189802551247, \"desp_tot_saude_pc_mun\": 1414.1073571651802}, {\"tx_mort_csap\": 130.88103602672734, \"desp_tot_saude_pc_mun\": 1417.7356580831336}, {\"tx_mort_csap\": 136.83017402794223, \"desp_tot_saude_pc_mun\": 1421.3639590010869}, {\"tx_mort_csap\": 142.7793120291571, \"desp_tot_saude_pc_mun\": 1424.9922599190402}, {\"tx_mort_csap\": 148.728450030372, \"desp_tot_saude_pc_mun\": 1428.6205608369935}, {\"tx_mort_csap\": 154.67758803158685, \"desp_tot_saude_pc_mun\": 1432.2488617549468}, {\"tx_mort_csap\": 160.62672603280174, \"desp_tot_saude_pc_mun\": 1435.8771626729}, {\"tx_mort_csap\": 166.57586403401663, \"desp_tot_saude_pc_mun\": 1439.5054635908534}, {\"tx_mort_csap\": 172.5250020352315, \"desp_tot_saude_pc_mun\": 1443.1337645088067}, {\"tx_mort_csap\": 178.47414003644639, \"desp_tot_saude_pc_mun\": 1446.76206542676}, {\"tx_mort_csap\": 184.42327803766125, \"desp_tot_saude_pc_mun\": 1450.3903663447134}, {\"tx_mort_csap\": 190.37241603887614, \"desp_tot_saude_pc_mun\": 1454.0186672626667}, {\"tx_mort_csap\": 196.32155404009103, \"desp_tot_saude_pc_mun\": 1457.64696818062}, {\"tx_mort_csap\": 202.2706920413059, \"desp_tot_saude_pc_mun\": 1461.2752690985733}, {\"tx_mort_csap\": 208.21983004252078, \"desp_tot_saude_pc_mun\": 1464.9035700165266}, {\"tx_mort_csap\": 214.16896804373565, \"desp_tot_saude_pc_mun\": 1468.53187093448}, {\"tx_mort_csap\": 220.11810604495054, \"desp_tot_saude_pc_mun\": 1472.1601718524332}, {\"tx_mort_csap\": 226.06724404616543, \"desp_tot_saude_pc_mun\": 1475.7884727703865}, {\"tx_mort_csap\": 232.0163820473803, \"desp_tot_saude_pc_mun\": 1479.4167736883396}, {\"tx_mort_csap\": 237.96552004859518, \"desp_tot_saude_pc_mun\": 1483.045074606293}, {\"tx_mort_csap\": 243.91465804981004, \"desp_tot_saude_pc_mun\": 1486.6733755242462}, {\"tx_mort_csap\": 249.86379605102493, \"desp_tot_saude_pc_mun\": 1490.3016764421996}, {\"tx_mort_csap\": 255.81293405223983, \"desp_tot_saude_pc_mun\": 1493.9299773601529}, {\"tx_mort_csap\": 261.7620720534547, \"desp_tot_saude_pc_mun\": 1497.5582782781062}, {\"tx_mort_csap\": 267.71121005466955, \"desp_tot_saude_pc_mun\": 1501.1865791960595}, {\"tx_mort_csap\": 273.66034805588447, \"desp_tot_saude_pc_mun\": 1504.8148801140128}, {\"tx_mort_csap\": 279.60948605709933, \"desp_tot_saude_pc_mun\": 1508.443181031966}, {\"tx_mort_csap\": 285.5586240583142, \"desp_tot_saude_pc_mun\": 1512.0714819499194}, {\"tx_mort_csap\": 291.5077620595291, \"desp_tot_saude_pc_mun\": 1515.6997828678727}, {\"tx_mort_csap\": 297.456900060744, \"desp_tot_saude_pc_mun\": 1519.328083785826}, {\"tx_mort_csap\": 303.40603806195884, \"desp_tot_saude_pc_mun\": 1522.9563847037793}, {\"tx_mort_csap\": 309.3551760631737, \"desp_tot_saude_pc_mun\": 1526.5846856217327}, {\"tx_mort_csap\": 315.3043140643886, \"desp_tot_saude_pc_mun\": 1530.212986539686}, {\"tx_mort_csap\": 321.2534520656035, \"desp_tot_saude_pc_mun\": 1533.8412874576393}, {\"tx_mort_csap\": 327.20259006681835, \"desp_tot_saude_pc_mun\": 1537.4695883755926}, {\"tx_mort_csap\": 333.15172806803326, \"desp_tot_saude_pc_mun\": 1541.097889293546}, {\"tx_mort_csap\": 339.1008660692481, \"desp_tot_saude_pc_mun\": 1544.7261902114992}, {\"tx_mort_csap\": 345.050004070463, \"desp_tot_saude_pc_mun\": 1548.3544911294525}, {\"tx_mort_csap\": 350.9991420716779, \"desp_tot_saude_pc_mun\": 1551.9827920474058}, {\"tx_mort_csap\": 356.94828007289277, \"desp_tot_saude_pc_mun\": 1555.6110929653591}, {\"tx_mort_csap\": 362.89741807410763, \"desp_tot_saude_pc_mun\": 1559.2393938833125}, {\"tx_mort_csap\": 368.8465560753225, \"desp_tot_saude_pc_mun\": 1562.8676948012658}, {\"tx_mort_csap\": 374.7956940765374, \"desp_tot_saude_pc_mun\": 1566.495995719219}, {\"tx_mort_csap\": 380.7448320777523, \"desp_tot_saude_pc_mun\": 1570.1242966371724}, {\"tx_mort_csap\": 386.69397007896714, \"desp_tot_saude_pc_mun\": 1573.7525975551257}, {\"tx_mort_csap\": 392.64310808018206, \"desp_tot_saude_pc_mun\": 1577.380898473079}, {\"tx_mort_csap\": 398.5922460813969, \"desp_tot_saude_pc_mun\": 1581.0091993910323}, {\"tx_mort_csap\": 404.5413840826118, \"desp_tot_saude_pc_mun\": 1584.6375003089856}, {\"tx_mort_csap\": 410.49052208382665, \"desp_tot_saude_pc_mun\": 1588.2658012269387}, {\"tx_mort_csap\": 416.43966008504157, \"desp_tot_saude_pc_mun\": 1591.8941021448923}, {\"tx_mort_csap\": 422.38879808625643, \"desp_tot_saude_pc_mun\": 1595.5224030628453}, {\"tx_mort_csap\": 428.3379360874713, \"desp_tot_saude_pc_mun\": 1599.1507039807987}, {\"tx_mort_csap\": 434.2870740886862, \"desp_tot_saude_pc_mun\": 1602.779004898752}, {\"tx_mort_csap\": 440.2362120899011, \"desp_tot_saude_pc_mun\": 1606.4073058167053}, {\"tx_mort_csap\": 446.18535009111594, \"desp_tot_saude_pc_mun\": 1610.0356067346586}, {\"tx_mort_csap\": 452.13448809233086, \"desp_tot_saude_pc_mun\": 1613.663907652612}, {\"tx_mort_csap\": 458.0836260935457, \"desp_tot_saude_pc_mun\": 1617.2922085705652}, {\"tx_mort_csap\": 464.0327640947606, \"desp_tot_saude_pc_mun\": 1620.9205094885185}, {\"tx_mort_csap\": 469.98190209597544, \"desp_tot_saude_pc_mun\": 1624.5488104064718}, {\"tx_mort_csap\": 475.93104009719036, \"desp_tot_saude_pc_mun\": 1628.1771113244251}, {\"tx_mort_csap\": 481.8801780984052, \"desp_tot_saude_pc_mun\": 1631.8054122423785}, {\"tx_mort_csap\": 487.8293160996201, \"desp_tot_saude_pc_mun\": 1635.4337131603318}, {\"tx_mort_csap\": 493.778454100835, \"desp_tot_saude_pc_mun\": 1639.062014078285}, {\"tx_mort_csap\": 499.72759210204987, \"desp_tot_saude_pc_mun\": 1642.6903149962384}, {\"tx_mort_csap\": 505.67673010326473, \"desp_tot_saude_pc_mun\": 1646.3186159141917}, {\"tx_mort_csap\": 511.62586810447965, \"desp_tot_saude_pc_mun\": 1649.946916832145}, {\"tx_mort_csap\": 517.5750061056945, \"desp_tot_saude_pc_mun\": 1653.5752177500983}, {\"tx_mort_csap\": 523.5241441069094, \"desp_tot_saude_pc_mun\": 1657.2035186680516}, {\"tx_mort_csap\": 529.4732821081243, \"desp_tot_saude_pc_mun\": 1660.831819586005}, {\"tx_mort_csap\": 535.4224201093391, \"desp_tot_saude_pc_mun\": 1664.460120503958}, {\"tx_mort_csap\": 541.371558110554, \"desp_tot_saude_pc_mun\": 1668.0884214219116}, {\"tx_mort_csap\": 547.3206961117689, \"desp_tot_saude_pc_mun\": 1671.7167223398649}, {\"tx_mort_csap\": 553.2698341129837, \"desp_tot_saude_pc_mun\": 1675.345023257818}, {\"tx_mort_csap\": 559.2189721141987, \"desp_tot_saude_pc_mun\": 1678.9733241757713}, {\"tx_mort_csap\": 565.1681101154136, \"desp_tot_saude_pc_mun\": 1682.6016250937246}, {\"tx_mort_csap\": 571.1172481166284, \"desp_tot_saude_pc_mun\": 1686.229926011678}, {\"tx_mort_csap\": 577.0663861178433, \"desp_tot_saude_pc_mun\": 1689.8582269296312}, {\"tx_mort_csap\": 583.0155241190582, \"desp_tot_saude_pc_mun\": 1693.4865278475845}, {\"tx_mort_csap\": 588.964662120273, \"desp_tot_saude_pc_mun\": 1697.1148287655378}]}}, {\"mode\": \"vega-lite\"});\n",
       "</script>"
      ],
      "text/plain": [
       "alt.LayerChart(...)"
      ]
     },
     "execution_count": 24,
     "metadata": {},
     "output_type": "execute_result"
    }
   ],
   "source": [
    "# URL to fetch the dataset from GitHub\n",
    "data_url = 'https://raw.githubusercontent.com/yantoniassi1/yantoniassi1.github.io/main/PortfolioData/cc9_health_cities_brazil.csv'\n",
    "\n",
    "# Regression Line Calculation\n",
    "regression_model = np.polyfit(\n",
    "    db_health_cities['tx_mort_csap'],\n",
    "    db_health_cities['desp_tot_saude_pc_mun'], \n",
    "    1\n",
    ")\n",
    "regression_line = np.poly1d(regression_model)\n",
    "\n",
    "# Create regression line data\n",
    "regression_df = pd.DataFrame({\n",
    "    'tx_mort_csap': np.linspace(\n",
    "        db_health_cities['tx_mort_csap'].min(),\n",
    "        db_health_cities['tx_mort_csap'].max(),\n",
    "        100\n",
    "    )\n",
    "})\n",
    "regression_df['desp_tot_saude_pc_mun'] = regression_line(regression_df['tx_mort_csap'])\n",
    "\n",
    "# Bubble Plot with GitHub Data Source\n",
    "bubble_plot = (\n",
    "    alt.Chart(alt.Data(url=data_url, format=alt.DataFormat(type='csv')))\n",
    "    .mark_circle(opacity=0.6)\n",
    "    .encode(\n",
    "        x=alt.X('tx_mort_csap:Q', title='Number of Deaths (Primary Care-Sensitive)'),\n",
    "        y=alt.Y('desp_tot_saude_pc_mun:Q', title='Health Expenditure (R$ per Capita)'),\n",
    "        size=alt.Size(\n",
    "            'pop:Q',\n",
    "            scale=alt.Scale(range=[10, 1000]),  # Adjust bubble sizes\n",
    "            legend=None  # Remove the Population legend\n",
    "        ),\n",
    "        color=alt.Color(\n",
    "            'pop_category:N',\n",
    "            title='Population Range',\n",
    "            scale=alt.Scale(\n",
    "                domain=['Less than 500K', '500K–1M', '1M–5M', '5M+'],\n",
    "                range=['#48cae4', '#ff7f0e', '#d62728', '#6f2dbd']\n",
    "            )\n",
    "        ),\n",
    "        order=alt.Order(\n",
    "            'pop:Q',\n",
    "            sort='ascending'\n",
    "        ),\n",
    "        tooltip=[\n",
    "            alt.Tooltip('nomemun:N', title='Municipality'),\n",
    "            alt.Tooltip('tx_mort_csap:Q', title='Deaths (Primary Care-Sensitive)'),\n",
    "            alt.Tooltip('desp_tot_saude_pc_mun:Q', title='Health Expenditure (R$)'),\n",
    "            alt.Tooltip('pop:Q', title='Population'),\n",
    "            alt.Tooltip('pop_category:N', title='Population Range')\n",
    "        ]\n",
    "    )\n",
    "    .properties(\n",
    "        title='Relationship Between Primary Care-Sensitive Deaths and Municipal Health Expenditure',\n",
    "        width=600,\n",
    "        height=400\n",
    "    )\n",
    "    .interactive()\n",
    ")\n",
    "\n",
    "# Regression Line Plot\n",
    "regression_plot = (\n",
    "    alt.Chart(regression_df)\n",
    "    .mark_line(color='black', strokeDash=[5, 5])\n",
    "    .encode(\n",
    "        x=alt.X('tx_mort_csap:Q', title='Number of Deaths (Primary Care-Sensitive)'),\n",
    "        y=alt.Y('desp_tot_saude_pc_mun:Q', title='Health Expenditure (R$ per Capita)')\n",
    "    )\n",
    ")\n",
    "\n",
    "# Combine Bubble Plot and Regression Line\n",
    "final_plot = bubble_plot + regression_plot\n",
    "final_plot"
   ]
  },
  {
   "cell_type": "code",
   "execution_count": 25,
   "metadata": {},
   "outputs": [
    {
     "name": "stdout",
     "output_type": "stream",
     "text": [
      "✅ Bubble plot successfully exported as 'bubble_plot_with_github_source.json' with GitHub data source.\n"
     ]
    }
   ],
   "source": [
    "# Export to JSON with GitHub Data Source\n",
    "final_plot.save('cc9_bubbleplot.json')\n",
    "print(\"✅ Bubble plot successfully exported as 'bubble_plot_with_github_source.json' with GitHub data source.\")"
   ]
  },
  {
   "cell_type": "markdown",
   "metadata": {},
   "source": [
    "## Distribution"
   ]
  },
  {
   "cell_type": "code",
   "execution_count": 63,
   "metadata": {},
   "outputs": [
    {
     "data": {
      "image/png": "[encoded data removed]",
      "text/plain": [
       "<Figure size 1200x600 with 1 Axes>"
      ]
     },
     "metadata": {},
     "output_type": "display_data"
    }
   ],
   "source": [
    "# Plot histogram for Health Expenditure per Capita\n",
    "plt.figure(figsize=(12, 6))\n",
    "plt.hist(db_health_cities['desp_tot_saude_pc_mun'], bins=30, color='skyblue', edgecolor='black')\n",
    "plt.title('Distribution of Municipal Health Expenditure per Capita (R$)')\n",
    "plt.xlabel('Health Expenditure (R$ per capita)')\n",
    "plt.ylabel('Number of Municipalities')\n",
    "plt.grid(axis='y', alpha=0.3)\n",
    "plt.show()"
   ]
  }
 ],
 "metadata": {
  "kernelspec": {
   "display_name": "Python 3",
   "language": "python",
   "name": "python3"
  },
  "language_info": {
   "codemirror_mode": {
    "name": "ipython",
    "version": 3
   },
   "file_extension": ".py",
   "mimetype": "text/x-python",
   "name": "python",
   "nbconvert_exporter": "python",
   "pygments_lexer": "ipython3",
   "version": "3.13.0"
  }
 },
 "nbformat": 4,
 "nbformat_minor": 2
}
