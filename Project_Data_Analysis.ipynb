{
 "cells": [
  {
   "cell_type": "code",
   "execution_count": 13,
   "metadata": {},
   "outputs": [],
   "source": [
    "#reading relevant packages\n",
    "import pandas as pd\n",
    "import folium\n",
    "import geopandas as gpd\n",
    "import os\n",
    "import fiona\n",
    "from shapely.geometry import shape\n",
    "from shapely.geometry import Point\n",
    "import matplotlib.pyplot as plt\n",
    "import requests\n",
    "import openpyxl\n",
    "import seaborn as sns\n",
    "import matplotlib.pyplot as plt\n",
    "import matplotlib.colors as mcolors\n",
    "import numpy as np\n",
    "from scipy.stats import gaussian_kde\n",
    "import requests\n",
    "import tempfile\n",
    "import json"
   ]
  },
  {
   "cell_type": "markdown",
   "metadata": {},
   "source": [
    "### Reading basemap"
   ]
  },
  {
   "cell_type": "code",
   "execution_count": null,
   "metadata": {},
   "outputs": [],
   "source": [
    "# reading shapefile from url \n",
    "url = \"https://github.com/yantoniassi1/yantoniassi1.github.io/raw/main/ProjectData/SIRGAS_SHP_distrito.zip\"\n",
    "\n",
    "# Fetch the zip file\n",
    "response = requests.get(url)\n",
    "if response.status_code == 200:\n",
    "    with tempfile.NamedTemporaryFile(suffix=\".zip\") as tmp_zip:\n",
    "        tmp_zip.write(response.content)\n",
    "        tmp_zip.seek(0)  # Go back to the beginning of the file\n",
    "        \n",
    "        # Read the shapefile from the temporary zip file\n",
    "        gdf_districts = gpd.read_file(f\"zip://{tmp_zip.name}\")\n",
    "        \n",
    "        # Display the first rows of the GeoDataFrame\n",
    "        print(gdf.head())\n",
    "else:\n",
    "    print(\"Failed to download the zip file. HTTP status code:\", response.status_code)\n"
   ]
  },
  {
   "cell_type": "code",
   "execution_count": 19,
   "metadata": {},
   "outputs": [
    {
     "name": "stdout",
     "output_type": "stream",
     "text": [
      "EPSG:4326\n"
     ]
    }
   ],
   "source": [
    "#set crs\n",
    "gdf_districts.crs = \"EPSG:31983\"\n",
    "gdf_districts = gdf_districts.to_crs(\"EPSG:4326\")\n",
    "\n",
    "print(gdf_districts.crs)"
   ]
  },
  {
   "cell_type": "code",
   "execution_count": 21,
   "metadata": {},
   "outputs": [
    {
     "name": "stdout",
     "output_type": "stream",
     "text": [
      "GeoJSON saved as SIRGAS_SHP_distritcs.json\n"
     ]
    }
   ],
   "source": [
    "geojson_path = \"SIRGAS_SHP_distritcs.json\"\n",
    "gdf_districts.to_file(geojson_path, driver=\"GeoJSON\")\n",
    "print(f\"GeoJSON saved as {geojson_path}\")"
   ]
  },
  {
   "cell_type": "markdown",
   "metadata": {},
   "source": [
    "### Reading Hospitals points"
   ]
  },
  {
   "cell_type": "code",
   "execution_count": 25,
   "metadata": {},
   "outputs": [
    {
     "name": "stdout",
     "output_type": "stream",
     "text": [
      "       ds_nome ds_codigo ds_cd_sub        ds_subpref ds_sigla    ds_areamt  \\\n",
      "0     MANDAQUI        51        05  SANTANA-TUCURUVI      MAN  13249456.11   \n",
      "1        MOEMA        32        12      VILA MARIANA      MOE   9079516.47   \n",
      "2  ARTUR ALVIM         5        21             PENHA      AAL   6505750.23   \n",
      "3     IGUATEMI        33        30        SAO MATEUS      IGU  19434636.54   \n",
      "4   ITAIM BIBI        35        11         PINHEIROS      IBI  10026327.68   \n",
      "\n",
      "   ds_areakm                                           geometry  \n",
      "0     13.249  POLYGON ((333079.583 7408102.398, 333077.161 7...  \n",
      "1      9.080  POLYGON ((331290.13 7392111.284, 331324.217 73...  \n",
      "2      6.506  POLYGON ((349420.638 7397694.618, 349423.468 7...  \n",
      "3     19.435  POLYGON ((350874.784 7389641.837, 350875.63 73...  \n",
      "4     10.026  POLYGON ((327871.085 7386152.364, 327865.295 7...  \n"
     ]
    }
   ],
   "source": [
    "# reading shapefile from url \n",
    "url = \"https://github.com/yantoniassi1/yantoniassi1.github.io/raw/main/ProjectData/loc_geosampa_cleaned.zip\"\n",
    "\n",
    "# Fetch the zip file\n",
    "response = requests.get(url)\n",
    "if response.status_code == 200:\n",
    "    with tempfile.NamedTemporaryFile(suffix=\".zip\") as tmp_zip:\n",
    "        tmp_zip.write(response.content)\n",
    "        tmp_zip.seek(0)  # Go back to the beginning of the file\n",
    "        \n",
    "        # Read the shapefile from the temporary zip file\n",
    "        gdf_hosps = gpd.read_file(f\"zip://{tmp_zip.name}\")\n",
    "        \n",
    "        # Display the first rows of the GeoDataFrame\n",
    "        print(gdf.head())\n",
    "else:\n",
    "    print(\"Failed to download the zip file. HTTP status code:\", response.status_code)"
   ]
  },
  {
   "cell_type": "code",
   "execution_count": null,
   "metadata": {},
   "outputs": [],
   "source": [
    "# Plot the basemap and overlay the urgency points for Municipal\n",
    "gdf_hosps.plot(color='red', markersize=5)\n",
    "\n",
    "#head gdf_hosps\n",
    "print(gdf_hosps.head())"
   ]
  },
  {
   "cell_type": "code",
   "execution_count": 35,
   "metadata": {},
   "outputs": [
    {
     "name": "stdout",
     "output_type": "stream",
     "text": [
      "GeoJSON saved as loc_healthfacilities.json\n"
     ]
    }
   ],
   "source": [
    "#save to geojson\n",
    "geojson_path = \"loc_healthfacilities.json\"\n",
    "gdf_hosps.to_file(geojson_path, driver=\"GeoJSON\")\n",
    "print(f\"GeoJSON saved as {geojson_path}\")"
   ]
  }
 ],
 "metadata": {
  "kernelspec": {
   "display_name": "Python 3",
   "language": "python",
   "name": "python3"
  },
  "language_info": {
   "codemirror_mode": {
    "name": "ipython",
    "version": 3
   },
   "file_extension": ".py",
   "mimetype": "text/x-python",
   "name": "python",
   "nbconvert_exporter": "python",
   "pygments_lexer": "ipython3",
   "version": "3.13.0"
  }
 },
 "nbformat": 4,
 "nbformat_minor": 2
}
