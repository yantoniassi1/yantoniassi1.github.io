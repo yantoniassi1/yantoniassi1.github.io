{
 "cells": [
  {
   "cell_type": "code",
   "execution_count": 13,
   "metadata": {},
   "outputs": [],
   "source": [
    "#reading relevant packages\n",
    "import pandas as pd\n",
    "import folium\n",
    "import geopandas as gpd\n",
    "import os\n",
    "import fiona\n",
    "from shapely.geometry import shape\n",
    "from shapely.geometry import Point\n",
    "import matplotlib.pyplot as plt\n",
    "import requests\n",
    "import openpyxl\n",
    "import seaborn as sns\n",
    "import matplotlib.pyplot as plt\n",
    "import matplotlib.colors as mcolors\n",
    "import numpy as np\n",
    "from scipy.stats import gaussian_kde\n",
    "import requests\n",
    "import tempfile\n",
    "import json"
   ]
  },
  {
   "cell_type": "code",
   "execution_count": null,
   "metadata": {},
   "outputs": [],
   "source": [
    "# reading shapefile from url \n",
    "url = \"https://github.com/yantoniassi1/yantoniassi1.github.io/raw/main/ProjectData/SIRGAS_SHP_distrito.zip\"\n",
    "\n",
    "# Fetch the zip file\n",
    "response = requests.get(url)\n",
    "if response.status_code == 200:\n",
    "    with tempfile.NamedTemporaryFile(suffix=\".zip\") as tmp_zip:\n",
    "        tmp_zip.write(response.content)\n",
    "        tmp_zip.seek(0)  # Go back to the beginning of the file\n",
    "        \n",
    "        # Read the shapefile from the temporary zip file\n",
    "        gdf_districts = gpd.read_file(f\"zip://{tmp_zip.name}\")\n",
    "        \n",
    "        # Display the first rows of the GeoDataFrame\n",
    "        print(gdf.head())\n",
    "else:\n",
    "    print(\"Failed to download the zip file. HTTP status code:\", response.status_code)\n"
   ]
  },
  {
   "cell_type": "code",
   "execution_count": 14,
   "metadata": {},
   "outputs": [
    {
     "name": "stderr",
     "output_type": "stream",
     "text": [
      "/Library/Frameworks/Python.framework/Versions/3.13/lib/python3.13/site-packages/pyogrio/geopandas.py:662: UserWarning: 'crs' was not provided.  The output dataset will not have projection information defined and may not be usable in other systems.\n",
      "  write(\n"
     ]
    },
    {
     "name": "stdout",
     "output_type": "stream",
     "text": [
      "GeoJSON saved as SIRGAS_SHP_distrito.json\n"
     ]
    }
   ],
   "source": [
    "geojson_path = \"SIRGAS_SHP_distrito.json\"\n",
    "gdf_districts.to_file(geojson_path, driver=\"GeoJSON\")\n",
    "print(f\"GeoJSON saved as {geojson_path}\")"
   ]
  },
  {
   "cell_type": "code",
   "execution_count": null,
   "metadata": {},
   "outputs": [],
   "source": []
  },
  {
   "cell_type": "code",
   "execution_count": null,
   "metadata": {},
   "outputs": [],
   "source": []
  }
 ],
 "metadata": {
  "kernelspec": {
   "display_name": "Python 3",
   "language": "python",
   "name": "python3"
  },
  "language_info": {
   "codemirror_mode": {
    "name": "ipython",
    "version": 3
   },
   "file_extension": ".py",
   "mimetype": "text/x-python",
   "name": "python",
   "nbconvert_exporter": "python",
   "pygments_lexer": "ipython3",
   "version": "3.13.0"
  }
 },
 "nbformat": 4,
 "nbformat_minor": 2
}
